{
 "cells": [
  {
   "cell_type": "code",
   "execution_count": 1,
   "metadata": {},
   "outputs": [],
   "source": [
    "import sqlite3 as db\n",
    "import pandas as pd"
   ]
  },
  {
   "cell_type": "code",
   "execution_count": 4,
   "metadata": {},
   "outputs": [],
   "source": [
    "conn = db.connect('banco.db')\n",
    "cursor = conn.cursor()"
   ]
  },
  {
   "cell_type": "code",
   "execution_count": 5,
   "metadata": {},
   "outputs": [
    {
     "ename": "OperationalError",
     "evalue": "table aluno already exists",
     "output_type": "error",
     "traceback": [
      "\u001b[0;31m---------------------------------------------------------------------------\u001b[0m",
      "\u001b[0;31mOperationalError\u001b[0m                          Traceback (most recent call last)",
      "Cell \u001b[0;32mIn[5], line 1\u001b[0m\n\u001b[0;32m----> 1\u001b[0m cursor\u001b[39m.\u001b[39;49mexecute(\u001b[39m\"\u001b[39;49m\u001b[39m create table aluno( id_aluno integer not null primary key autoincrement,nome_aluno varchar(50) not null,cpf_aluno varchar(12) not null,id_turma int not null )\u001b[39;49m\u001b[39m\"\u001b[39;49m)\n",
      "\u001b[0;31mOperationalError\u001b[0m: table aluno already exists"
     ]
    }
   ],
   "source": [
    "cursor.execute(\" create table aluno( id_aluno integer not null primary key autoincrement,nome_aluno varchar(50) not null,cpf_aluno varchar(12) not null,id_turma int not null )\")"
   ]
  },
  {
   "cell_type": "code",
   "execution_count": 4,
   "metadata": {},
   "outputs": [
    {
     "data": {
      "text/plain": [
       "<sqlite3.Cursor at 0x7f1a53dd70c0>"
      ]
     },
     "execution_count": 4,
     "metadata": {},
     "output_type": "execute_result"
    }
   ],
   "source": [
    "cursor.execute(\"create table turma(id_turma  int primary key,qtd_alunos int)\")"
   ]
  },
  {
   "cell_type": "code",
   "execution_count": 6,
   "metadata": {},
   "outputs": [
    {
     "data": {
      "text/plain": [
       "<sqlite3.Cursor at 0x7f71755663c0>"
      ]
     },
     "execution_count": 6,
     "metadata": {},
     "output_type": "execute_result"
    }
   ],
   "source": [
    "cursor.execute( 'INSERT INTO aluno (nome_aluno, cpf_aluno, id_turma) VALUES (\"João Silva\", \"12345678901\", 1),(\"Maria Santos\", \"23456789012\", 1), (\"Pedro Costa\", \"34567890123\", 1),(\"Ana Oliveira\", \"45678901234\", 1), (\"Rafael Souza\", \"56789012345\", 1),(\"Lucas Mendes\", \"12345098765\", 1)') "
   ]
  },
  {
   "cell_type": "code",
   "execution_count": 10,
   "metadata": {},
   "outputs": [],
   "source": [
    "conn.commit()"
   ]
  },
  {
   "cell_type": "code",
   "execution_count": 9,
   "metadata": {},
   "outputs": [
    {
     "data": {
      "text/plain": [
       "<sqlite3.Cursor at 0x7f71755663c0>"
      ]
     },
     "execution_count": 9,
     "metadata": {},
     "output_type": "execute_result"
    }
   ],
   "source": [
    "cursor.execute(\"insert into turma (id_turma,qtd_alunos) values (1,34)\")"
   ]
  },
  {
   "cell_type": "code",
   "execution_count": 5,
   "metadata": {},
   "outputs": [],
   "source": [
    "df_innerJoin = pd.read_sql_query (\"select   aluno.nome_aluno ,turma.qtd_alunos,turma.id_turma from aluno inner join turma where turma.id_turma = aluno.id_turma;\",conn)"
   ]
  },
  {
   "cell_type": "code",
   "execution_count": 6,
   "metadata": {},
   "outputs": [
    {
     "name": "stdout",
     "output_type": "stream",
     "text": [
      "     nome_aluno  qtd_alunos  id_turma\n",
      "0    João Silva          34         1\n",
      "1  Maria Santos          34         1\n",
      "2   Pedro Costa          34         1\n",
      "3  Ana Oliveira          34         1\n",
      "4  Rafael Souza          34         1\n",
      "5  Lucas Mendes          34         1\n"
     ]
    }
   ],
   "source": [
    "print(df_innerJoin)"
   ]
  },
  {
   "cell_type": "code",
   "execution_count": 7,
   "metadata": {},
   "outputs": [
    {
     "name": "stdout",
     "output_type": "stream",
     "text": [
      "Nessa turma temos: 6 alunos\n",
      "Logo temos 28 vagas restantes\n"
     ]
    }
   ],
   "source": [
    "cursor.execute('select  max(id_aluno) from aluno')\n",
    "\n",
    "quantAluno = cursor.fetchall()[0]\n",
    "\n",
    "print(\"Nessa turma temos: \"+str(quantAluno).strip(\"[] () ,\")+\" alunos\" )\n",
    "\n",
    "cursor.execute('select  qtd_alunos from turma')\n",
    "maxQtdAlunos = cursor.fetchall()[0]\n",
    "dif =  maxQtdAlunos[0] - quantAluno[0]\n",
    "print(\"Logo temos \" + str(dif)+ \" vagas restantes\")"
   ]
  },
  {
   "cell_type": "code",
   "execution_count": null,
   "metadata": {},
   "outputs": [],
   "source": []
  }
 ],
 "metadata": {
  "kernelspec": {
   "display_name": "Python 3",
   "language": "python",
   "name": "python3"
  },
  "language_info": {
   "codemirror_mode": {
    "name": "ipython",
    "version": 3
   },
   "file_extension": ".py",
   "mimetype": "text/x-python",
   "name": "python",
   "nbconvert_exporter": "python",
   "pygments_lexer": "ipython3",
   "version": "3.10.4"
  },
  "orig_nbformat": 4
 },
 "nbformat": 4,
 "nbformat_minor": 2
}
